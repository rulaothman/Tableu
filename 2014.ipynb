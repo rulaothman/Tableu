{
 "cells": [
  {
   "cell_type": "code",
   "execution_count": 3,
   "metadata": {},
   "outputs": [],
   "source": [
    "import pandas as pd"
   ]
  },
  {
   "cell_type": "code",
   "execution_count": 4,
   "metadata": {},
   "outputs": [],
   "source": [
    "df1 = pd.read_csv(\"/Users/rulaothman/Downloads/citibike trip data/2014-01 - Citi Bike trip data.csv\")\n",
    "df2 = pd.read_csv(\"/Users/rulaothman/Downloads/citibike trip data/2014-02 - Citi Bike trip data.csv\")\n",
    "df3 = pd.read_csv(\"/Users/rulaothman/Downloads/citibike trip data/2014-03 - Citi Bike trip data.csv\")\n",
    "df4 = pd.read_csv(\"/Users/rulaothman/Downloads/citibike trip data/2014-04 - Citi Bike trip data.csv\")\n",
    "df5 = pd.read_csv(\"/Users/rulaothman/Downloads/citibike trip data/2014-05 - Citi Bike trip data.csv\")\n",
    "df6 = pd.read_csv(\"/Users/rulaothman/Downloads/citibike trip data/2014-06 - Citi Bike trip data.csv\")\n",
    "df7 = pd.read_csv(\"/Users/rulaothman/Downloads/citibike trip data/2014-07 - Citi Bike trip data.csv\")\n",
    "df8 = pd.read_csv(\"/Users/rulaothman/Downloads/citibike trip data/2014-08 - Citi Bike trip data.csv\")\n",
    "df9 = pd.read_csv(\"/Users/rulaothman/Downloads/citibike trip data/201409-citibike-tripdata.csv\")\n",
    "df10 = pd.read_csv(\"/Users/rulaothman/Downloads/citibike trip data/201410-citibike-tripdata.csv\")\n",
    "df11 = pd.read_csv(\"/Users/rulaothman/Downloads/citibike trip data/201411-citibike-tripdata.csv\")\n",
    "df12 = pd.read_csv(\"/Users/rulaothman/Downloads/citibike trip data/201412-citibike-tripdata.csv\")"
   ]
  },
  {
   "cell_type": "code",
   "execution_count": 5,
   "metadata": {},
   "outputs": [],
   "source": [
    "df = pd.concat([df1, df2, df3, df4, df5, df6, df7, df8, df9, df10, df11, df12], ignore_index=True)"
   ]
  },
  {
   "cell_type": "code",
   "execution_count": 6,
   "metadata": {},
   "outputs": [
    {
     "name": "stdout",
     "output_type": "stream",
     "text": [
      "   tripduration            starttime             stoptime  start station id  \\\n",
      "0           471  2014-01-01 00:00:06  2014-01-01 00:07:57              2009   \n",
      "1          1494  2014-01-01 00:00:38  2014-01-01 00:25:32               536   \n",
      "2           464  2014-01-01 00:03:59  2014-01-01 00:11:43               228   \n",
      "3           373  2014-01-01 00:05:15  2014-01-01 00:11:28               519   \n",
      "4           660  2014-01-01 00:05:18  2014-01-01 00:16:18                83   \n",
      "\n",
      "              start station name  start station latitude  \\\n",
      "0       Catherine St & Monroe St               40.711174   \n",
      "1                1 Ave & E 30 St               40.741444   \n",
      "2                E 48 St & 3 Ave               40.754601   \n",
      "3              Pershing Square N               40.751884   \n",
      "4  Atlantic Ave & Fort Greene Pl               40.683826   \n",
      "\n",
      "   start station longitude  end station id          end station name  \\\n",
      "0               -73.996826             263  Elizabeth St & Hester St   \n",
      "1               -73.975361             259   South St & Whitehall St   \n",
      "2               -73.971879            2022       E 59 St & Sutton Pl   \n",
      "3               -73.977702             526           E 33 St & 5 Ave   \n",
      "4               -73.976323             436  Hancock St & Bedford Ave   \n",
      "\n",
      "   end station latitude  end station longitude  bikeid    usertype birth year  \\\n",
      "0             40.717290             -73.996375   16379  Subscriber       1986   \n",
      "1             40.701221             -74.012342   15611  Subscriber       1963   \n",
      "2             40.758491             -73.959206   16613  Subscriber       1991   \n",
      "3             40.747659             -73.984907   15938  Subscriber       1989   \n",
      "4             40.682166             -73.953990   19830  Subscriber       1990   \n",
      "\n",
      "   gender  \n",
      "0       1  \n",
      "1       1  \n",
      "2       1  \n",
      "3       1  \n",
      "4       1  \n"
     ]
    }
   ],
   "source": [
    "print(df.head())"
   ]
  },
  {
   "cell_type": "code",
   "execution_count": 7,
   "metadata": {},
   "outputs": [],
   "source": [
    "df.to_csv('2014.csv')"
   ]
  },
  {
   "cell_type": "code",
   "execution_count": null,
   "metadata": {},
   "outputs": [],
   "source": []
  }
 ],
 "metadata": {
  "kernelspec": {
   "display_name": "Python 3",
   "language": "python",
   "name": "python3"
  },
  "language_info": {
   "codemirror_mode": {
    "name": "ipython",
    "version": 3
   },
   "file_extension": ".py",
   "mimetype": "text/x-python",
   "name": "python",
   "nbconvert_exporter": "python",
   "pygments_lexer": "ipython3",
   "version": "3.6.5"
  }
 },
 "nbformat": 4,
 "nbformat_minor": 2
}
